{
 "cells": [
  {
   "cell_type": "markdown",
   "id": "832233f6",
   "metadata": {},
   "source": [
    "# Data Extraction and NLP"
   ]
  },
  {
   "cell_type": "code",
   "execution_count": 1,
   "id": "46ef5fbf",
   "metadata": {},
   "outputs": [],
   "source": [
    "#importing libraries\n",
    "\n",
    "import pandas as pd\n",
    "from bs4 import BeautifulSoup\n",
    "import requests\n",
    "import nltk\n",
    "from nltk.tokenize import word_tokenize, sent_tokenize\n",
    "from nltk.corpus import stopwords\n",
    "from nltk.probability import FreqDist\n",
    "from nltk.tokenize import RegexpTokenizer\n",
    "from nltk.sentiment.vader import SentimentIntensityAnalyzer\n",
    "from textblob import TextBlob\n"
   ]
  },
  {
   "cell_type": "code",
   "execution_count": 2,
   "id": "95f4cacd",
   "metadata": {},
   "outputs": [
    {
     "name": "stderr",
     "output_type": "stream",
     "text": [
      "[nltk_data] Downloading package punkt to\n",
      "[nltk_data]     C:\\Users\\Mohit\\AppData\\Roaming\\nltk_data...\n",
      "[nltk_data]   Package punkt is already up-to-date!\n",
      "[nltk_data] Downloading package stopwords to\n",
      "[nltk_data]     C:\\Users\\Mohit\\AppData\\Roaming\\nltk_data...\n",
      "[nltk_data]   Package stopwords is already up-to-date!\n"
     ]
    },
    {
     "data": {
      "text/plain": [
       "True"
      ]
     },
     "execution_count": 2,
     "metadata": {},
     "output_type": "execute_result"
    }
   ],
   "source": [
    "nltk.download('punkt')\n",
    "nltk.download('stopwords')"
   ]
  },
  {
   "cell_type": "code",
   "execution_count": 3,
   "id": "8473d5ac",
   "metadata": {},
   "outputs": [],
   "source": [
    "# Step 1: Data Input\n",
    "\n",
    "input_df = pd.read_excel(r\"C:\\Users\\Mohit\\Desktop\\blackcoffer\\Input.xlsx\")\n"
   ]
  },
  {
   "cell_type": "code",
   "execution_count": 4,
   "id": "3e007cc8",
   "metadata": {},
   "outputs": [],
   "source": [
    "# Step 2: Crawl and Extract Text\n",
    "\n",
    "\n",
    "for index, row in input_df.iterrows():\n",
    "    url = row['URL']\n",
    "    url_id = row['URL_ID']\n",
    "\n",
    "    # Make a request to the URL\n",
    "    response = requests.get(url)\n",
    "\n",
    "    # Parse HTML content using BeautifulSoup\n",
    "    soup = BeautifulSoup(response.text, 'html.parser')\n",
    "\n",
    "    # Extract article title and text\n",
    "    title = soup.title.text if soup.title else \"\"\n",
    "    article_text = \" \".join([p.text for p in soup.find_all('p')])\n",
    "\n",
    "    # Save extracted article text in a text file\n",
    "    with open(f\"{url_id}.txt\", 'w', encoding='utf-8') as file:\n",
    "        file.write(f\"{title}\\n{article_text}\")"
   ]
  },
  {
   "cell_type": "code",
   "execution_count": 5,
   "id": "9f0cbe01",
   "metadata": {},
   "outputs": [],
   "source": [
    "# Step 3: Text Analysis\n",
    "\n",
    "\n",
    "output_data = []\n",
    "\n",
    "for index, row in input_df.iterrows():\n",
    "    url_id = row['URL_ID']\n",
    "\n",
    "    # Step 4: Read Extracted Text\n",
    "    \n",
    "    \n",
    "    with open(f\"{url_id}.txt\", 'r', encoding='utf-8') as file:\n",
    "        article_content = file.read()\n",
    "\n",
    "    # Step 5: Perform Text Analysis\n",
    "    # Tokenize words\n",
    "    words = nltk.word_tokenize(article_content)\n",
    "\n",
    "    \n",
    "    # Step 6: Calculate Variables\n",
    "    # Variable 1: Positive and Negative Scores (using SentimentIntensityAnalyzer from nltk)\n",
    "    \n",
    "    \n",
    "    \n",
    "    sia = SentimentIntensityAnalyzer()\n",
    "    sentiment_scores = sia.polarity_scores(article_content)\n",
    "    positive_score = sentiment_scores['pos']\n",
    "    negative_score = sentiment_scores['neg']\n",
    "\n",
    "    # Variable 2: Polarity Score\n",
    "    polarity_score = (positive_score - negative_score) / (positive_score + negative_score + 0.000001)\n",
    "\n",
    "    \n",
    "    # Variable 3: Subjectivity Score\n",
    "    subjectivity_score = (positive_score + negative_score) / (len(words) + 0.000001)\n",
    "\n",
    "    \n",
    "    # Variable 4: Average Sentence Length\n",
    "    sentences = nltk.sent_tokenize(article_content)\n",
    "    avg_sentence_length = len(words) / len(sentences)\n",
    "\n",
    "    \n",
    "    # Variable 5: Percentage of Complex Words\n",
    "    complex_words = [word for word in words if len(word) > 2]  # Assuming > 2 syllables is complex\n",
    "    percentage_complex_words = len(complex_words) / len(words)\n",
    "\n",
    "    \n",
    "    # Variable 6: Fog Index\n",
    "    fog_index = 0.4 * (avg_sentence_length + percentage_complex_words)\n",
    "\n",
    "    \n",
    "    # Add other variables as per your requirements\n",
    "\n",
    "    # Step 7: Save Results\n",
    "    output_data.append([url_id, positive_score, negative_score, polarity_score, subjectivity_score,\n",
    "                        avg_sentence_length, percentage_complex_words, fog_index])\n",
    "\n",
    "\n",
    "# Create DataFrame for the output\n",
    "columns = ['URL_ID', 'POSITIVE SCORE', 'NEGATIVE SCORE', 'POLARITY SCORE', 'SUBJECTIVITY SCORE',\n",
    "           'AVG SENTENCE LENGTH', 'PERCENTAGE OF COMPLEX WORDS', 'FOG INDEX']\n",
    "\n",
    "output_df = pd.DataFrame(output_data, columns=columns)\n",
    "\n",
    "# Save output to Excel file\n",
    "output_df.to_excel(r\"C:\\Users\\Mohit\\Desktop\\blackcoffer\\Output.xlsx\", index=False)"
   ]
  },
  {
   "cell_type": "code",
   "execution_count": null,
   "id": "12895450",
   "metadata": {},
   "outputs": [],
   "source": []
  }
 ],
 "metadata": {
  "kernelspec": {
   "display_name": "Python 3 (ipykernel)",
   "language": "python",
   "name": "python3"
  },
  "language_info": {
   "codemirror_mode": {
    "name": "ipython",
    "version": 3
   },
   "file_extension": ".py",
   "mimetype": "text/x-python",
   "name": "python",
   "nbconvert_exporter": "python",
   "pygments_lexer": "ipython3",
   "version": "3.9.13"
  }
 },
 "nbformat": 4,
 "nbformat_minor": 5
}
